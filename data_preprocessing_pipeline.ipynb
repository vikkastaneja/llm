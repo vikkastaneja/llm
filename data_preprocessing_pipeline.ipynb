{
 "cells": [
  {
   "cell_type": "markdown",
   "id": "9c946d84",
   "metadata": {},
   "source": [
    "## Step 1: Tokenization"
   ]
  },
  {
   "cell_type": "code",
   "execution_count": null,
   "id": "18a793a3",
   "metadata": {},
   "outputs": [
    {
     "name": "stdout",
     "output_type": "stream",
     "text": [
      "Number of characters in the file: 20479\n"
     ]
    }
   ],
   "source": [
    "# Use the tiktokenizer to create tokens\n",
    "with open(\"the-verdict.txt\") as f:\n",
    "    raw_text = f.read()\n",
    "\n",
    "print(f\"Number of characters in the file: {len(raw_text)}\")"
   ]
  },
  {
   "cell_type": "code",
   "execution_count": 3,
   "id": "8dc69698",
   "metadata": {},
   "outputs": [
    {
     "name": "stdout",
     "output_type": "stream",
     "text": [
      "tiktoken version: 0.9.0\n"
     ]
    }
   ],
   "source": [
    "# We will use tiktoken, which was used by GPT2\n",
    "import importlib\n",
    "import tiktoken\n",
    "\n",
    "print(\"tiktoken version:\", importlib.metadata.version(\"tiktoken\"))"
   ]
  },
  {
   "cell_type": "code",
   "execution_count": 4,
   "id": "bfb88948",
   "metadata": {},
   "outputs": [],
   "source": [
    "# Initialzie tokenizer\n",
    "tokenizer = tiktoken.get_encoding(\"gpt2\")"
   ]
  },
  {
   "cell_type": "code",
   "execution_count": null,
   "id": "0191e1a0",
   "metadata": {},
   "outputs": [
    {
     "name": "stdout",
     "output_type": "stream",
     "text": [
      "5145\n"
     ]
    }
   ],
   "source": [
    "# Encode the text from \"the-verdict.txt\" using tokenizer\n",
    "integers = tokenizer.encode(raw_text, allowed_special={\"<|endoftext|>\"})\n",
    "print(len(integers))"
   ]
  },
  {
   "cell_type": "code",
   "execution_count": 8,
   "id": "eb54a260",
   "metadata": {},
   "outputs": [
    {
     "name": "stdout",
     "output_type": "stream",
     "text": [
      "20479\n",
      "True\n"
     ]
    }
   ],
   "source": [
    "# Generate back the string and compare with original raw text\n",
    "strings = tokenizer.decode(integers)\n",
    "print(len(strings))\n",
    "print(len(strings) == len(raw_text))"
   ]
  },
  {
   "cell_type": "code",
   "execution_count": 14,
   "id": "61a41155",
   "metadata": {},
   "outputs": [
    {
     "name": "stdout",
     "output_type": "stream",
     "text": [
      "[33901, 86, 343, 86, 220, 959]\n",
      "['Ak', 'w', 'ir', 'w', ' ', 'ier']\n",
      "Akwirw ier\n"
     ]
    }
   ],
   "source": [
    "# Let's see how it decodes the unknown words\n",
    "integers = tokenizer.encode(\"Akwirw ier\")\n",
    "print(integers)\n",
    "print([tokenizer.decode([i]) for i in integers])\n",
    "print(tokenizer.decode(integers))\n",
    "    "
   ]
  },
  {
   "cell_type": "markdown",
   "id": "909fdf47",
   "metadata": {},
   "source": [
    "### Step 2: CREATE INPUT-TARGET PAIRS USING DATALOADERS"
   ]
  },
  {
   "cell_type": "markdown",
   "id": "13f9dda7",
   "metadata": {},
   "source": [
    "##### STEPS:\n",
    "<li>Tokenize entire text</li>\n",
    "<li>Use a sliding window to chunk the book into overlapping sequence of max_length</li>\n",
    "<li>Return the total number of rows in the dataset</li>\n",
    "<li>Return a single row from the dataset</li>\n",
    "\n",
    "<b> For efficient data loader implementation, we will use PyTorch's built-in dataset and dataloader classes.</b>"
   ]
  },
  {
   "cell_type": "code",
   "execution_count": 19,
   "id": "e169a2db",
   "metadata": {},
   "outputs": [],
   "source": [
    "from torch.utils.data import Dataset\n",
    "# First we will create a Dataset class that will be used by DataLoader to extract the data from 'raw_text' efficiently\n",
    "class GPTDataset(Dataset):\n",
    "    def __init__(self, text, tokenizer, max_length, stride):\n",
    "        self.input_ids = []\n",
    "        self.target_ids = []\n",
    "\n",
    "        # Tokenize the entier dataset\n",
    "        token_ids = tokenizer.encode(text, allowed_special={\"<|endoftext|>\"})\n",
    "\n",
    "        # Use sliding window to chunk the book into overlapping sequence of max_length\n",
    "        for i in range(0, len(token_ids) - max_length, stride):\n",
    "            input_chunk = token_ids[i:i + max_length]\n",
    "            target_chunk = token_ids[i + 1: i + max_length - 1]\n",
    "            self.input_ids.append(torch.tensor(input_chunk))\n",
    "            self.target_ids.append(torch.tensor(target_chunk))\n",
    "\n",
    "    def __len__(self):\n",
    "        return len(self.input_ids)\n",
    "    \n",
    "    def __getitem__(self, index):\n",
    "        return self.input_ids[index], self.target_ids[index]\n",
    "        "
   ]
  },
  {
   "cell_type": "code",
   "execution_count": null,
   "id": "d4e769d6",
   "metadata": {},
   "outputs": [],
   "source": [
    "# The above Dataset class will be served as input to create datasets using dataloader\n",
    "from torch.utils.data import DataLoader\n",
    "import tiktoken\n",
    "def dataloader_v1(text, batch_size=4, max_length = 256, stride = 128, shuffle = True, drop_last = True, num_workers = 1):\n",
    "    # Initialize tokenizer\n",
    "    tokenizer = tiktoken.get_encoding(\"gpt2\")\n",
    "\n",
    "    # Create dataset\n",
    "    dataset = GPTDataset(text=text, tokenizer=tokenizer, stride=stride, max_length=max_length)\n",
    "\n",
    "    # Create Dataloader\n",
    "    dataloader = DataLoader(dataset=dataset, batch_size=batch_size, shuffle=shuffle, drop_last=drop_last, num_workers=num_workers)\n",
    "\n",
    "    return dataloader"
   ]
  },
  {
   "cell_type": "code",
   "execution_count": null,
   "id": "b97e8f12",
   "metadata": {},
   "outputs": [],
   "source": [
    "# Convert dataloader into a python iterator to fetch next entry\n",
    "import torch\n",
    "dataloader = dataloader_v1(text=raw_text, batch_size=1, max_length=4, stride=1, shuffle=False)\n",
    "\n",
    "data_iter = iter(dataloader)\n",
    "\n",
    "print(next(data_iter))"
   ]
  }
 ],
 "metadata": {
  "kernelspec": {
   "display_name": "gensim-env",
   "language": "python",
   "name": "python3"
  },
  "language_info": {
   "codemirror_mode": {
    "name": "ipython",
    "version": 3
   },
   "file_extension": ".py",
   "mimetype": "text/x-python",
   "name": "python",
   "nbconvert_exporter": "python",
   "pygments_lexer": "ipython3",
   "version": "3.10.18"
  }
 },
 "nbformat": 4,
 "nbformat_minor": 5
}
