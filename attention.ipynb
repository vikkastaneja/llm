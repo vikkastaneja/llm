{
 "cells": [
  {
   "cell_type": "markdown",
   "id": "7f25ca8e",
   "metadata": {},
   "source": [
    "# ATTENTION IS ALL YOU NEED"
   ]
  },
  {
   "cell_type": "markdown",
   "id": "042b547c",
   "metadata": {},
   "source": []
  }
 ],
 "metadata": {
  "kernelspec": {
   "display_name": "gensim-env",
   "language": "python",
   "name": "python3"
  },
  "language_info": {
   "name": "python",
   "version": "3.10.18"
  }
 },
 "nbformat": 4,
 "nbformat_minor": 5
}
